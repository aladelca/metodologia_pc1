{
 "cells": [
  {
   "cell_type": "markdown",
   "metadata": {},
   "source": [
    "# Análisis Exploratorio de Datos - HR Analytics\n",
    "\n",
    "Este notebook contiene el análisis exploratorio de los datos de recursos humanos, enfocándonos en encontrar patrones y variables correlacionadas con la variable target 'attrition'."
   ]
  },
  {
   "cell_type": "code",
   "execution_count": 3,
   "metadata": {},
   "outputs": [
    {
     "ename": "ModuleNotFoundError",
     "evalue": "No module named 'pandas'",
     "output_type": "error",
     "traceback": [
      "\u001b[31m---------------------------------------------------------------------------\u001b[39m",
      "\u001b[31mModuleNotFoundError\u001b[39m                       Traceback (most recent call last)",
      "\u001b[36mCell\u001b[39m\u001b[36m \u001b[39m\u001b[32mIn[3]\u001b[39m\u001b[32m, line 2\u001b[39m\n\u001b[32m      1\u001b[39m \u001b[38;5;66;03m# Importación de librerías necesarias\u001b[39;00m\n\u001b[32m----> \u001b[39m\u001b[32m2\u001b[39m \u001b[38;5;28;01mimport\u001b[39;00m\u001b[38;5;250m \u001b[39m\u001b[34;01mpandas\u001b[39;00m\u001b[38;5;250m \u001b[39m\u001b[38;5;28;01mas\u001b[39;00m\u001b[38;5;250m \u001b[39m\u001b[34;01mpd\u001b[39;00m\n\u001b[32m      3\u001b[39m \u001b[38;5;28;01mimport\u001b[39;00m\u001b[38;5;250m \u001b[39m\u001b[34;01mnumpy\u001b[39;00m\u001b[38;5;250m \u001b[39m\u001b[38;5;28;01mas\u001b[39;00m\u001b[38;5;250m \u001b[39m\u001b[34;01mnp\u001b[39;00m\n\u001b[32m      4\u001b[39m \u001b[38;5;28;01mimport\u001b[39;00m\u001b[38;5;250m \u001b[39m\u001b[34;01mmatplotlib\u001b[39;00m\u001b[34;01m.\u001b[39;00m\u001b[34;01mpyplot\u001b[39;00m\u001b[38;5;250m \u001b[39m\u001b[38;5;28;01mas\u001b[39;00m\u001b[38;5;250m \u001b[39m\u001b[34;01mplt\u001b[39;00m\n",
      "\u001b[31mModuleNotFoundError\u001b[39m: No module named 'pandas'"
     ]
    }
   ],
   "source": [
    "# Importación de librerías necesarias\n",
    "import pandas as pd\n",
    "import numpy as np\n",
    "import matplotlib.pyplot as plt\n",
    "import seaborn as sns\n",
    "from scipy import stats\n",
    "\n",
    "# Configuración de visualización\n",
    "plt.style.use('seaborn')\n",
    "sns.set_palette('Set2')\n",
    "plt.rcParams['figure.figsize'] = (12, 8)\n",
    "plt.rcParams['font.size'] = 12"
   ]
  },
  {
   "cell_type": "code",
   "execution_count": null,
   "metadata": {},
   "outputs": [],
   "source": [
    "# Carga de datos\n",
    "df = pd.read_csv('../data/clean/encoded_data.csv')\n",
    "print(f'Dimensiones del dataset: {df.shape}')\n",
    "df.head()"
   ]
  },
  {
   "cell_type": "markdown",
   "metadata": {},
   "source": [
    "## 1. Análisis de la Variable Target (Attrition)\n",
    "\n",
    "Primero analizaremos la distribución de nuestra variable objetivo."
   ]
  },
  {
   "cell_type": "code",
   "execution_count": null,
   "metadata": {},
   "outputs": [],
   "source": [
    "# Distribución de Attrition\n",
    "plt.figure(figsize=(10, 6))\n",
    "sns.countplot(data=df, x='Attrition')\n",
    "plt.title('Distribución de Attrition')\n",
    "plt.show()\n",
    "\n",
    "# Porcentajes\n",
    "attrition_pct = df['Attrition'].value_counts(normalize=True) * 100\n",
    "print('\\nPorcentaje de Attrition:')\n",
    "print(attrition_pct)"
   ]
  },
  {
   "cell_type": "markdown",
   "metadata": {},
   "source": [
    "## 2. Análisis de Variables Numéricas"
   ]
  },
  {
   "cell_type": "code",
   "execution_count": null,
   "metadata": {},
   "outputs": [],
   "source": [
    "# Seleccionar variables numéricas\n",
    "numeric_cols = df.select_dtypes(include=['int64', 'float64']).columns\n",
    "\n",
    "# Calcular correlaciones con Attrition\n",
    "correlations = df[numeric_cols].corrwith(df['Attrition'])\n",
    "correlations = correlations.sort_values(ascending=False)\n",
    "\n",
    "# Visualizar correlaciones\n",
    "plt.figure(figsize=(12, 8))\n",
    "correlations.plot(kind='bar')\n",
    "plt.title('Correlación de Variables Numéricas con Attrition')\n",
    "plt.xticks(rotation=45, ha='right')\n",
    "plt.tight_layout()\n",
    "plt.show()\n",
    "\n",
    "print('\\nTop 5 correlaciones positivas:')\n",
    "print(correlations.head())\n",
    "print('\\nTop 5 correlaciones negativas:')\n",
    "print(correlations.tail())"
   ]
  },
  {
   "cell_type": "markdown",
   "metadata": {},
   "source": [
    "## 3. Análisis de Variables Categóricas"
   ]
  },
  {
   "cell_type": "code",
   "execution_count": null,
   "metadata": {},
   "outputs": [],
   "source": [
    "# Función para crear gráficos de barras por categoría\n",
    "def plot_categorical_analysis(df, column):\n",
    "    plt.figure(figsize=(12, 6))\n",
    "    \n",
    "    # Calcular porcentajes de Attrition por categoría\n",
    "    attrition_by_cat = df.groupby(column)['Attrition'].mean() * 100\n",
    "    \n",
    "    # Crear gráfico\n",
    "    attrition_by_cat.plot(kind='bar')\n",
    "    plt.title(f'Porcentaje de Attrition por {column}')\n",
    "    plt.ylabel('Porcentaje de Attrition')\n",
    "    plt.xticks(rotation=45, ha='right')\n",
    "    plt.tight_layout()\n",
    "    plt.show()\n",
    "    \n",
    "    print(f'\\nPorcentaje de Attrition por {column}:')\n",
    "    print(attrition_by_cat.sort_values(ascending=False))"
   ]
  },
  {
   "cell_type": "code",
   "execution_count": null,
   "metadata": {},
   "outputs": [],
   "source": [
    "# Analizar variables categóricas principales\n",
    "categorical_cols = ['Department', 'JobRole', 'MaritalStatus', 'Gender', 'BusinessTravel']\n",
    "\n",
    "for col in categorical_cols:\n",
    "    plot_categorical_analysis(df, col)"
   ]
  },
  {
   "cell_type": "markdown",
   "metadata": {},
   "source": [
    "## 4. Análisis de Satisfacción y Feedback"
   ]
  },
  {
   "cell_type": "code",
   "execution_count": null,
   "metadata": {},
   "outputs": [],
   "source": [
    "# Análisis de variables de satisfacción\n",
    "satisfaction_cols = ['average_employee_satisfaction', 'average_manager_feedback']\n",
    "\n",
    "for col in satisfaction_cols:\n",
    "    plt.figure(figsize=(10, 6))\n",
    "    sns.boxplot(data=df, x='Attrition', y=col)\n",
    "    plt.title(f'{col} vs Attrition')\n",
    "    plt.show()\n",
    "    \n",
    "    # T-test para verificar diferencias significativas\n",
    "    t_stat, p_val = stats.ttest_ind(\n",
    "        df[df['Attrition'] == 0][col],\n",
    "        df[df['Attrition'] == 1][col]\n",
    "    )\n",
    "    print(f'\\nT-test para {col}:')\n",
    "    print(f'T-statistic: {t_stat:.4f}')\n",
    "    print(f'P-value: {p_val:.4f}')"
   ]
  },
  {
   "cell_type": "markdown",
   "metadata": {},
   "source": [
    "## 5. Análisis de Variables de Tiempo y Trabajo"
   ]
  },
  {
   "cell_type": "code",
   "execution_count": null,
   "metadata": {},
   "outputs": [],
   "source": [
    "# Análisis de variables relacionadas con tiempo y trabajo\n",
    "time_cols = ['YearsAtCompany', 'YearsInCurrentRole', 'YearsSinceLastPromotion', 'YearsWithCurrManager']\n",
    "\n",
    "fig, axes = plt.subplots(2, 2, figsize=(15, 12))\n",
    "axes = axes.ravel()\n",
    "\n",
    "for idx, col in enumerate(time_cols):\n",
    "    sns.boxplot(data=df, x='Attrition', y=col, ax=axes[idx])\n",
    "    axes[idx].set_title(f'{col} vs Attrition')\n",
    "\n",
    "plt.tight_layout()\n",
    "plt.show()"
   ]
  }
 ],
 "metadata": {
  "kernelspec": {
   "display_name": "Python 3",
   "language": "python",
   "name": "python3"
  },
  "language_info": {
   "codemirror_mode": {
    "name": "ipython",
    "version": 3
   },
   "file_extension": ".py",
   "mimetype": "text/x-python",
   "name": "python",
   "nbconvert_exporter": "python",
   "pygments_lexer": "ipython3",
   "version": "3.12.10"
  }
 },
 "nbformat": 4,
 "nbformat_minor": 2
}
