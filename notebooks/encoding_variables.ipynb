{
 "cells": [
  {
   "cell_type": "markdown",
   "id": "55db600e",
   "metadata": {},
   "source": [
    "# Grupo 05: Transformación de Variables Categóricas"
   ]
  },
  {
   "cell_type": "markdown",
   "id": "802866e7",
   "metadata": {},
   "source": [
    "## Cargar los últimos datos a un dataframe"
   ]
  },
  {
   "cell_type": "code",
   "execution_count": null,
   "id": "e6c5162b",
   "metadata": {},
   "outputs": [
    {
     "data": {
      "text/html": [
       "<div>\n",
       "<style scoped>\n",
       "    .dataframe tbody tr th:only-of-type {\n",
       "        vertical-align: middle;\n",
       "    }\n",
       "\n",
       "    .dataframe tbody tr th {\n",
       "        vertical-align: top;\n",
       "    }\n",
       "\n",
       "    .dataframe thead th {\n",
       "        text-align: right;\n",
       "    }\n",
       "</style>\n",
       "<table border=\"1\" class=\"dataframe\">\n",
       "  <thead>\n",
       "    <tr style=\"text-align: right;\">\n",
       "      <th></th>\n",
       "      <th>Age</th>\n",
       "      <th>Attrition</th>\n",
       "      <th>BusinessTravel</th>\n",
       "      <th>Department</th>\n",
       "      <th>DistanceFromHome</th>\n",
       "      <th>Education</th>\n",
       "      <th>EducationField</th>\n",
       "      <th>EmployeeCount</th>\n",
       "      <th>EmployeeID</th>\n",
       "      <th>Gender</th>\n",
       "      <th>...</th>\n",
       "      <th>YearsAtCompany</th>\n",
       "      <th>YearsSinceLastPromotion</th>\n",
       "      <th>YearsWithCurrManager</th>\n",
       "      <th>EnvironmentSatisfaction</th>\n",
       "      <th>JobSatisfaction</th>\n",
       "      <th>WorkLifeBalance</th>\n",
       "      <th>average_employee_satisfaction</th>\n",
       "      <th>JobInvolvement</th>\n",
       "      <th>PerformanceRating</th>\n",
       "      <th>average_manager_feedback</th>\n",
       "    </tr>\n",
       "  </thead>\n",
       "  <tbody>\n",
       "    <tr>\n",
       "      <th>0</th>\n",
       "      <td>51</td>\n",
       "      <td>No</td>\n",
       "      <td>Travel_Rarely</td>\n",
       "      <td>Sales</td>\n",
       "      <td>6</td>\n",
       "      <td>2</td>\n",
       "      <td>Life Sciences</td>\n",
       "      <td>1</td>\n",
       "      <td>1</td>\n",
       "      <td>Female</td>\n",
       "      <td>...</td>\n",
       "      <td>1</td>\n",
       "      <td>0</td>\n",
       "      <td>0</td>\n",
       "      <td>3.0</td>\n",
       "      <td>4.0</td>\n",
       "      <td>2.0</td>\n",
       "      <td>3.0</td>\n",
       "      <td>3</td>\n",
       "      <td>3</td>\n",
       "      <td>3.0</td>\n",
       "    </tr>\n",
       "    <tr>\n",
       "      <th>1</th>\n",
       "      <td>31</td>\n",
       "      <td>Yes</td>\n",
       "      <td>Travel_Frequently</td>\n",
       "      <td>Research &amp; Development</td>\n",
       "      <td>10</td>\n",
       "      <td>1</td>\n",
       "      <td>Life Sciences</td>\n",
       "      <td>1</td>\n",
       "      <td>2</td>\n",
       "      <td>Female</td>\n",
       "      <td>...</td>\n",
       "      <td>5</td>\n",
       "      <td>1</td>\n",
       "      <td>4</td>\n",
       "      <td>3.0</td>\n",
       "      <td>2.0</td>\n",
       "      <td>4.0</td>\n",
       "      <td>3.0</td>\n",
       "      <td>2</td>\n",
       "      <td>4</td>\n",
       "      <td>3.0</td>\n",
       "    </tr>\n",
       "  </tbody>\n",
       "</table>\n",
       "<p>2 rows × 31 columns</p>\n",
       "</div>"
      ],
      "text/plain": [
       "   Age Attrition     BusinessTravel              Department  DistanceFromHome  \\\n",
       "0   51        No      Travel_Rarely                   Sales                 6   \n",
       "1   31       Yes  Travel_Frequently  Research & Development                10   \n",
       "\n",
       "   Education EducationField  EmployeeCount  EmployeeID  Gender  ...  \\\n",
       "0          2  Life Sciences              1           1  Female  ...   \n",
       "1          1  Life Sciences              1           2  Female  ...   \n",
       "\n",
       "   YearsAtCompany YearsSinceLastPromotion YearsWithCurrManager  \\\n",
       "0               1                       0                    0   \n",
       "1               5                       1                    4   \n",
       "\n",
       "   EnvironmentSatisfaction  JobSatisfaction WorkLifeBalance  \\\n",
       "0                      3.0              4.0             2.0   \n",
       "1                      3.0              2.0             4.0   \n",
       "\n",
       "   average_employee_satisfaction  JobInvolvement  PerformanceRating  \\\n",
       "0                            3.0               3                  3   \n",
       "1                            3.0               2                  4   \n",
       "\n",
       "   average_manager_feedback  \n",
       "0                       3.0  \n",
       "1                       3.0  \n",
       "\n",
       "[2 rows x 31 columns]"
      ]
     },
     "execution_count": 2,
     "metadata": {},
     "output_type": "execute_result"
    }
   ],
   "source": [
    "import os\n",
    "\n",
    "os.chdir(\"..\")\n",
    "from src.features.feedback_jefes import procesar_feedback_jefes\n",
    "#Llamar al metodo procesar_feedback_jefes y asignarlo a una variable\n",
    "df_feedback_jefes = procesar_feedback_jefes()\n",
    "df_feedback_jefes.head(2)"
   ]
  },
  {
   "cell_type": "markdown",
   "id": "924f2c37",
   "metadata": {},
   "source": [
    "## PASO 1: Identificar las variables categóricas"
   ]
  },
  {
   "cell_type": "code",
   "execution_count": 3,
   "id": "fac6b5cf",
   "metadata": {},
   "outputs": [
    {
     "name": "stdout",
     "output_type": "stream",
     "text": [
      "Variables categóricas detectadas:\n",
      "['Attrition', 'BusinessTravel', 'Department', 'EducationField', 'Gender', 'JobRole', 'MaritalStatus', 'Over18']\n"
     ]
    }
   ],
   "source": [
    "import pandas as pd\n",
    "\n",
    "cat_cols = df_feedback_jefes.select_dtypes(include=[\"object\"]).columns.tolist()\n",
    "\n",
    "print(\"Variables categóricas detectadas:\")\n",
    "print(cat_cols)"
   ]
  },
  {
   "cell_type": "markdown",
   "id": "cdc6b234",
   "metadata": {},
   "source": [
    "## PASO 2: Aplica técnicas de encoding"
   ]
  },
  {
   "cell_type": "markdown",
   "id": "415a01c3",
   "metadata": {},
   "source": [
    "## Análisis de Variables Categóricas\n",
    "\n",
    "A continuación, se presenta el análisis de las variables categóricas presentes en el dataset, así como la decisión sobre la técnica de codificación más adecuada para cada una.\n",
    "\n",
    "| Variable         | Tipo       | Técnica sugerida         | Justificación |\n",
    "|------------------|------------|---------------------------|---------------|\n",
    "| `Attrition`       | Binaria    | LabelEncoder              | Solo tiene 2 valores: `\"Yes\"` / `\"No\"`. Al ser binaria, puede codificarse como 0 y 1 sin pérdida de información. |\n",
    "| `BusinessTravel`  | Nominal    | OneHotEncoder             | Tiene múltiples categorías sin un orden lógico, por lo que es mejor representarlas como variables dummy. |\n",
    "| `Department`      | Nominal    | OneHotEncoder             | Las categorías como `\"Sales\"`, `\"Research & Development\"` no tienen jerarquía, por lo tanto OneHot es más apropiado. |\n",
    "| `EducationField`  | Nominal    | OneHotEncoder             | Al igual que `Department`, no hay un orden implícito entre las categorías. |\n",
    "| `Gender`          | Binaria    | LabelEncoder              | Tiene dos clases (`\"Male\"`, `\"Female\"`), por lo que puede codificarse fácilmente como 0 y 1. |\n",
    "| `JobRole`         | Nominal    | OneHotEncoder             | Contiene múltiples roles con significados distintos pero sin orden jerárquico, ideal para codificación one-hot. |\n",
    "| `MaritalStatus`   | Nominal    | OneHotEncoder             | Las categorías como `\"Single\"`, `\"Married\"` y `\"Divorced\"` no representan una escala ordenada. |\n",
    "| `Over18`          | Binaria    | LabelEncoder               | Contiene 2 valores. |\n"
   ]
  },
  {
   "cell_type": "code",
   "execution_count": 4,
   "id": "4bf09e26",
   "metadata": {},
   "outputs": [],
   "source": [
    "import os\n",
    "os.chdir(\"..\")\n",
    "from src.preprocessing.config import RUTA_ENCODED_DATA\n",
    "from src.preprocessing.encoding import apply_label_encoding, apply_one_hot_encoding\n",
    "\n",
    "# Label Encoding a columnas binarias\n",
    "binary_cols = ['Attrition', 'Gender', 'Over18']\n",
    "df_encoded, label_encoders = apply_label_encoding(df_feedback_jefes, binary_cols)\n",
    "\n",
    "# One Hot Encoding a columnas nominales\n",
    "one_hot_cols = ['BusinessTravel', 'Department', 'EducationField', 'JobRole', 'MaritalStatus']\n",
    "df_encoded = apply_one_hot_encoding(df_encoded, one_hot_cols)\n",
    "\n",
    "# Guardar dataset limpio\n",
    "df_encoded.to_csv(RUTA_ENCODED_DATA, index=False)"
   ]
  }
 ],
 "metadata": {
  "kernelspec": {
   "display_name": "Python 3",
   "language": "python",
   "name": "python3"
  },
  "language_info": {
   "codemirror_mode": {
    "name": "ipython",
    "version": 3
   },
   "file_extension": ".py",
   "mimetype": "text/x-python",
   "name": "python",
   "nbconvert_exporter": "python",
   "pygments_lexer": "ipython3",
   "version": "3.13.3"
  }
 },
 "nbformat": 4,
 "nbformat_minor": 5
}
