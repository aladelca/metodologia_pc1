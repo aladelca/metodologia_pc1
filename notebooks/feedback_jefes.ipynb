{
 "cells": [
  {
   "cell_type": "code",
   "execution_count": null,
   "id": "da18d5c6",
   "metadata": {},
   "outputs": [],
   "source": [
    "# GRUPO 2: Unir datasets con datos de feedback de jefes\n",
    "# Importar librerias\n",
    "import pandas as pd\n",
    "\n",
    "import src.preprocessing.config as conf\n",
    "from src.features.encuesta_empleados import procesar_encuesta_empleados\n",
    "from src.features.feedback_jefes import procesar_feedback_jefes\n",
    "from src.preprocessing import read_employee_files, read_feedback_files"
   ]
  },
  {
   "cell_type": "code",
   "execution_count": null,
   "id": "8d899820",
   "metadata": {},
   "outputs": [],
   "source": [
    "# 1.- Verificar que se puede leer la data del archivo manager_survey_data.csv\n",
    "\n",
    "# Cargar dataset manager_survey_data\n",
    "manager_survey_data = pd.read_csv(conf.RUTA_MANAGER_SURVEY_PATH)\n",
    "# Mostrar la informacion del dataset manager_survey_data\n",
    "manager_survey_data"
   ]
  },
  {
   "cell_type": "code",
   "execution_count": null,
   "id": "878edc5e",
   "metadata": {},
   "outputs": [],
   "source": [
    "# 2.- Verificar que se pueden utilizar los métodos de preprocessing del Grupo 1\n",
    "\n",
    "# Llamar al metodo read_file\n",
    "data = read_employee_files.read_file(conf.RUTA_GENERAL)\n",
    "data.head(3)\n",
    "# Llamar al metodo read_file\n",
    "data = read_employee_files.read_file(conf.RUTA_EMPLOYEE_SURVEY)\n",
    "data.head(3)\n",
    "# Llamar al metodo merge_files\n",
    "data = read_employee_files.merge_files(\n",
    "    conf.RUTA_GENERAL, conf.RUTA_EMPLOYEE_SURVEY, conf.EMPLOYEE_COLUMN_JOIN\n",
    ")\n",
    "data.head(3)\n",
    "# Llamar al metodo mean_columns\n",
    "data = read_employee_files.merge_files(\n",
    "    conf.RUTA_GENERAL, conf.RUTA_EMPLOYEE_SURVEY, conf.EMPLOYEE_COLUMN_JOIN\n",
    ")\n",
    "nuevadata = read_employee_files.mean_columns(\n",
    "    data, conf.COLUMN_AVERAGE_EMPLOYEE_SATISFACTION, conf.MEAN_COLUMNS\n",
    ")\n",
    "nuevadata.head(3)"
   ]
  },
  {
   "cell_type": "code",
   "execution_count": null,
   "id": "72c06e2c",
   "metadata": {},
   "outputs": [],
   "source": [
    "# 3.- Verificar que se pueden utilizar los métodos de feature del Grupo 1\n",
    "\n",
    "# Llamar al metodo procesar_encuesta_empleados\n",
    "procesar_encuesta_empleados()"
   ]
  },
  {
   "cell_type": "code",
   "execution_count": null,
   "id": "408e3cab",
   "metadata": {},
   "outputs": [],
   "source": [
    "# 4.- Reutilizar métodos del Grupo 1 para generar el nuevo dataset solicitado\n",
    "\n",
    "# A) Unir el dataset del paso uno con manager_survey_data.csv.\n",
    "# Pueden utilizar los comandos merge de pandas.\n",
    "# Llamar al metodo procesar_encuesta_empleados y asignarlo a una variable\n",
    "df_encuesta_empleados = procesar_encuesta_empleados()\n",
    "df_encuesta_empleados.head(2)\n",
    "# Crear variable con la data del manager_survey_data\n",
    "df_manag_survey = read_employee_files.read_file(conf.RUTA_MANAGER_SURVEY_PATH)\n",
    "df_manag_survey.head(2)\n",
    "# Hacer el merge entre df_encuesta_empleados y df_manag_survey\n",
    "df_merge_emp_manag = read_feedback_files.merge_dataframe(\n",
    "    df_encuesta_empleados, df_manag_survey, conf.EMPLOYEE_COLUMN_JOIN\n",
    ")\n",
    "df_merge_emp_manag.head(2)\n",
    "\n",
    "# B) Crear la variable average_manager_feedback\n",
    "# que vendría a ser el promedio de las variables\n",
    "# del dataset manager_surve_data.csv.\n",
    "df_average_manager_feedback = read_employee_files.mean_columns(\n",
    "    df_merge_emp_manag,\n",
    "    conf.COLUMN_AVERAGE_MANAGER_FEEDBACK,\n",
    "    conf.MEAN_COLUMNS_FEEDBACK,\n",
    ")\n",
    "df_average_manager_feedback.head(2)\n",
    "\n",
    "# C) Actualizar la documentación del paso uno indicando lo adicional.\n",
    "# Lista de actividades:\n",
    "# -Hacer notebook de feedback utilizando los métodos del grupo 1.\n",
    "# -Actualizar archivo config con las nuevas variables o constantes.\n",
    "# -Crear el archivo read_feedback_files.py dentro de preprocessing\n",
    "# para agregar el método de merge con dataframe\n",
    "# -Crear el archivo feedback_jefes.py dentro de features\n",
    "# para agregar el método para crear el nuevo dataset con lo que\n",
    "# solicitaron del paso 2.\n",
    "# -Crear el archivo test_feedback_jefes.py dentro de tests para\n",
    "# probar el nuevo método creado en feedback_jefes.py.\n",
    "# -Actualizar el archivo Documentacion.md con la información de\n",
    "# los nuevos métodos y archivos creados."
   ]
  },
  {
   "cell_type": "code",
   "execution_count": null,
   "id": "d6434475",
   "metadata": {},
   "outputs": [],
   "source": [
    "# 5.- Probar que funcione nuestro método final ya combinando todo\n",
    "\n",
    "# Llamar al metodo procesar_encuesta_empleados y asignarlo a una variable\n",
    "df_feedback_jefes = procesar_feedback_jefes()\n",
    "df_feedback_jefes.head(2)"
   ]
  }
 ],
 "metadata": {
  "language_info": {
   "codemirror_mode": {
    "name": "ipython",
    "version": 3
   },
   "file_extension": ".py",
   "mimetype": "text/x-python",
   "name": "python",
   "nbconvert_exporter": "python",
   "pygments_lexer": "ipython3",
   "version": "3.11.9"
  }
 },
 "nbformat": 4,
 "nbformat_minor": 5
}
